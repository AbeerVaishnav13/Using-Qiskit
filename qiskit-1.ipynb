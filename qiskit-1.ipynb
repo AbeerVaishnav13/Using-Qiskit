{
 "cells": [
  {
   "cell_type": "code",
   "execution_count": 2,
   "metadata": {},
   "outputs": [
    {
     "data": {
      "text/html": [
       "<pre style=\"word-wrap: normal;white-space: pre;background: #fff0;line-height: 1.1;font-family: &quot;Courier New&quot;,Courier,monospace\">        ┌───┐      ░ ┌───┐     ┌───┐ ░ ┌───┐┌───┐     ┌───┐┌───┐ ░ ┌─┐   \n",
       "q_0: |0>┤ H ├──────░─┤ X ├──■──┤ X ├─░─┤ H ├┤ X ├──■──┤ X ├┤ H ├─░─┤M├───\n",
       "        ├───┤      ░ └───┘  │  └───┘ ░ ├───┤├───┤  │  ├───┤├───┤ ░ └╥┘┌─┐\n",
       "q_1: |0>┤ H ├──────░────────■────────░─┤ H ├┤ X ├──■──┤ X ├┤ H ├─░──╫─┤M├\n",
       "        ├───┤┌───┐ ░      ┌─┴─┐      ░ └───┘└───┘┌─┴─┐└───┘└───┘ ░  ║ └╥┘\n",
       "q_2: |0>┤ X ├┤ H ├─░──────┤ X ├──────░───────────┤ X ├───────────░──╫──╫─\n",
       "        └───┘└───┘ ░      └───┘      ░           └───┘           ░  ║  ║ \n",
       " c_0: 0 ════════════════════════════════════════════════════════════╩══╬═\n",
       "                                                                       ║ \n",
       " c_1: 0 ═══════════════════════════════════════════════════════════════╩═\n",
       "                                                                         </pre>"
      ],
      "text/plain": [
       "<qiskit.visualization.text.TextDrawing at 0x111ce8b50>"
      ]
     },
     "execution_count": 2,
     "metadata": {},
     "output_type": "execute_result"
    }
   ],
   "source": [
    "import qiskit as q\n",
    "%matplotlib inline\n",
    "\n",
    "circuit = q.QuantumCircuit(3, 2)\n",
    "\n",
    "# Grover Search algorithm for 2 qubits and 1 control bit\n",
    "\n",
    "# Preparation using superposition\n",
    "circuit.h(0)\n",
    "circuit.h(1)\n",
    "circuit.x(2)\n",
    "circuit.h(2)\n",
    "circuit.barrier()\n",
    "\n",
    "# Function Uw\n",
    "circuit.x(0)\n",
    "circuit.ccx(0, 1, 2)\n",
    "circuit.x(0)\n",
    "circuit.barrier()\n",
    "\n",
    "# Function Us\n",
    "circuit.h(0)\n",
    "circuit.h(1)\n",
    "circuit.x(0)\n",
    "circuit.x(1)\n",
    "circuit.ccx(0, 1, 2)\n",
    "circuit.x(0)\n",
    "circuit.x(1)\n",
    "circuit.h(0)\n",
    "circuit.h(1)\n",
    "circuit.barrier()\n",
    "\n",
    "# Measure\n",
    "circuit.measure([0, 1], [0, 1])\n",
    "\n",
    "# Draw the circuit\n",
    "circuit.draw()"
   ]
  },
  {
   "cell_type": "code",
   "execution_count": 3,
   "metadata": {},
   "outputs": [
    {
     "data": {
      "image/png": "[encoded data removed]",
      "text/plain": [
       "<Figure size 1059.52x264.88 with 1 Axes>"
      ]
     },
     "execution_count": 3,
     "metadata": {},
     "output_type": "execute_result"
    }
   ],
   "source": [
    "circuit.draw(output='mpl')"
   ]
  },
  {
   "cell_type": "code",
   "execution_count": 4,
   "metadata": {},
   "outputs": [
    {
     "data": {
      "text/plain": [
       "<AccountProvider for IBMQ(hub='ibm-q', group='open', project='main')>"
      ]
     },
     "execution_count": 4,
     "metadata": {},
     "output_type": "execute_result"
    }
   ],
   "source": [
    "from qiskit import IBMQ\n",
    "\n",
    "# IBM-Q Account credentials initialization\n",
    "IBMQ.load_account()"
   ]
  },
  {
   "cell_type": "code",
   "execution_count": 5,
   "metadata": {},
   "outputs": [
    {
     "name": "stdout",
     "output_type": "stream",
     "text": [
      "ibmq_qasm_simulator (simulated) : 0 queued job(s).\n",
      "ibmqx2 (5) : 4 queued job(s).\n",
      "ibmq_16_melbourne (15) : 4 queued job(s).\n",
      "ibmq_vigo (5) : 1 queued job(s).\n",
      "ibmq_ourense (5) : 18 queued job(s).\n",
      "ibmq_london (5) : 19 queued job(s).\n",
      "ibmq_burlington (5) : 0 queued job(s).\n",
      "ibmq_essex (5) : 1 queued job(s).\n",
      "ibmq_armonk (1) : 6 queued job(s).\n"
     ]
    }
   ],
   "source": [
    "# List all backends available with us\n",
    "provider = IBMQ.get_provider('ibm-q')\n",
    "\n",
    "for backend in provider.backends():\n",
    "    try:\n",
    "        qubit_count = len(backend.properties().qubits)\n",
    "    except:\n",
    "        qubit_count = 'simulated'\n",
    "        \n",
    "    print(f'{backend.name()} ({qubit_count}) : {backend.status().pending_jobs} queued job(s).')"
   ]
  },
  {
   "cell_type": "code",
   "execution_count": 12,
   "metadata": {},
   "outputs": [
    {
     "name": "stdout",
     "output_type": "stream",
     "text": [
      "Job Status: job has successfully run\n"
     ]
    }
   ],
   "source": [
    "from qiskit.tools.monitor import job_monitor\n",
    "\n",
    "# Executing a job on the IBM-Q quantum computer\n",
    "backend = provider.get_backend('ibmq_ourense')\n",
    "job = q.execute(circuit, backend = backend, shots = 1024)\n",
    "job_monitor(job)"
   ]
  },
  {
   "cell_type": "code",
   "execution_count": 13,
   "metadata": {},
   "outputs": [
    {
     "data": {
      "image/png": "[encoded data removed]",
      "text/plain": [
       "<Figure size 504x360 with 1 Axes>"
      ]
     },
     "execution_count": 13,
     "metadata": {},
     "output_type": "execute_result"
    }
   ],
   "source": [
    "from qiskit.visualization import plot_histogram\n",
    "from matplotlib import style\n",
    "\n",
    "style.use('dark_background')\n",
    "\n",
    "# Display histogram for results\n",
    "result = job.result()\n",
    "counts = result.get_counts(circuit)\n",
    "\n",
    "plot_histogram([counts])"
   ]
  },
  {
   "cell_type": "code",
   "execution_count": 14,
   "metadata": {},
   "outputs": [
    {
     "name": "stdout",
     "output_type": "stream",
     "text": [
      "Job Status: job has successfully run\n"
     ]
    }
   ],
   "source": [
    "# Trying on ibmq-qasm-simulator\n",
    "sim_backend = provider.get_backend('ibmq_qasm_simulator')\n",
    "sim_job = q.execute(circuit, backend = sim_backend, shots = 1024)\n",
    "job_monitor(sim_job)"
   ]
  },
  {
   "cell_type": "code",
   "execution_count": 15,
   "metadata": {},
   "outputs": [
    {
     "data": {
      "image/png": "[encoded data removed]",
      "text/plain": [
       "<Figure size 504x360 with 1 Axes>"
      ]
     },
     "execution_count": 15,
     "metadata": {},
     "output_type": "execute_result"
    }
   ],
   "source": [
    "# Results of the ibmq-qasm-simulator\n",
    "sim_result = sim_job.result()\n",
    "sim_counts = sim_result.get_counts(circuit)\n",
    "\n",
    "plot_histogram([sim_counts])"
   ]
  }
 ],
 "metadata": {
  "kernelspec": {
   "display_name": "Python 3",
   "language": "python",
   "name": "python3"
  },
  "language_info": {
   "codemirror_mode": {
    "name": "ipython",
    "version": 3
   },
   "file_extension": ".py",
   "mimetype": "text/x-python",
   "name": "python",
   "nbconvert_exporter": "python",
   "pygments_lexer": "ipython3",
   "version": "3.7.5"
  }
 },
 "nbformat": 4,
 "nbformat_minor": 4
}
